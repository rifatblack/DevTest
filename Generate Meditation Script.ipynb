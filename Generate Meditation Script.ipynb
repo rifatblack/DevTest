{
 "cells": [
  {
   "cell_type": "code",
   "execution_count": 7,
   "id": "53f6c2cb",
   "metadata": {},
   "outputs": [],
   "source": [
    "#!pip install openai==0.28.0"
   ]
  },
  {
   "cell_type": "code",
   "execution_count": null,
   "id": "59ba7749",
   "metadata": {},
   "outputs": [],
   "source": [
    "import openai\n",
    "import os"
   ]
  },
  {
   "cell_type": "code",
   "execution_count": 8,
   "id": "1a744d17",
   "metadata": {},
   "outputs": [],
   "source": [
    "openai.api_key = \"\" # Enter your API key here"
   ]
  },
  {
   "cell_type": "code",
   "execution_count": 9,
   "id": "905a1e63",
   "metadata": {},
   "outputs": [],
   "source": [
    "def generate_meditation_script(query):\n",
    "    response = openai.ChatCompletion.create(\n",
    "        model=\"gpt-4o-mini\",\n",
    "        messages=[\n",
    "            {\"role\": \"system\", \"content\": \"You are an expert in creating guided meditations.\"},\n",
    "            {\"role\": \"user\", \"content\": query}\n",
    "        ],\n",
    "        functions=[\n",
    "            {\n",
    "                \"name\": \"generate_meditation\",\n",
    "                \"description\": \"Generate a structured meditation session.\",\n",
    "                \"parameters\": {\n",
    "                    \"type\": \"object\",\n",
    "                    \"properties\": {\n",
    "                        \"duration\": {\"type\": \"integer\", \"description\": \"Duration of the meditation in milliseconds\"},\n",
    "                        \"focus_area\": {\"type\": \"string\", \"description\": \"The focus area of the meditation, e.g., relaxation\"},\n",
    "                        \"phrases\": {\n",
    "                            \"type\": \"array\",\n",
    "                            \"description\": \"List of phrases with text and pause duration\",\n",
    "                            \"items\": {\n",
    "                                \"type\": \"object\",\n",
    "                                \"properties\": {\n",
    "                                    \"text\": {\"type\": \"string\", \"description\": \"Text of the meditation phrase\"},\n",
    "                                    \"pause\": {\"type\": \"integer\", \"description\": \"Pause duration in milliseconds after this phrase\"}\n",
    "                                },\n",
    "                                \"required\": [\"text\", \"pause\"]\n",
    "                            }\n",
    "                        }\n",
    "                    },\n",
    "                    \"required\": [\"duration\", \"focus_area\", \"phrases\"]\n",
    "                }\n",
    "            }\n",
    "        ],\n",
    "        function_call={\"name\": \"generate_meditation\"},\n",
    "        max_tokens=500\n",
    "    )\n",
    "\n",
    "    return response.choices[0].message['function_call']['arguments']"
   ]
  },
  {
   "cell_type": "code",
   "execution_count": 10,
   "id": "5b0b576e",
   "metadata": {},
   "outputs": [],
   "source": [
    "query = \"Can you make a 45 second mindfulness meditation?\"\n"
   ]
  },
  {
   "cell_type": "code",
   "execution_count": 11,
   "id": "7ae79d1f",
   "metadata": {},
   "outputs": [
    {
     "name": "stdout",
     "output_type": "stream",
     "text": [
      "{\"duration\":45000,\"focus_area\":\"mindfulness\",\"phrases\":[{\"text\":\"Take a deep breath in, filling your lungs completely.\",\"pause\":3000},{\"text\":\"Hold that breath for a moment...\",\"pause\":2000},{\"text\":\"Now, exhale slowly, letting go of any tension.\",\"pause\":3000},{\"text\":\"Focus on the sensation of the air entering and leaving your body.\",\"pause\":4000},{\"text\":\"Acknowledge any thoughts that arise, then gently return your focus to your breath.\",\"pause\":3000},{\"text\":\"Feel the ground beneath you, supporting you in this moment.\",\"pause\":4000},{\"text\":\"With each breath, allow yourself to become more present.\",\"pause\":3000},{\"text\":\"You are here, you are safe, you are at peace.\",\"pause\":3000},{\"text\":\"Now, slowly bring your awareness to your surroundings.\",\"pause\":3000},{\"text\":\"When you feel ready, open your eyes.\"},{\"pause\":2000}]}\n"
     ]
    }
   ],
   "source": [
    "structured_output = generate_meditation_script(query)\n",
    "print(structured_output)"
   ]
  },
  {
   "cell_type": "code",
   "execution_count": null,
   "id": "26ce651a",
   "metadata": {},
   "outputs": [],
   "source": []
  }
 ],
 "metadata": {
  "kernelspec": {
   "display_name": "Python 3 (ipykernel)",
   "language": "python",
   "name": "python3"
  },
  "language_info": {
   "codemirror_mode": {
    "name": "ipython",
    "version": 3
   },
   "file_extension": ".py",
   "mimetype": "text/x-python",
   "name": "python",
   "nbconvert_exporter": "python",
   "pygments_lexer": "ipython3",
   "version": "3.9.13"
  }
 },
 "nbformat": 4,
 "nbformat_minor": 5
}
